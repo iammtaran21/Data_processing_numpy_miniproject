{
  "nbformat": 4,
  "nbformat_minor": 0,
  "metadata": {
    "colab": {
      "name": "Numpy_miniproject.ipynb",
      "provenance": [],
      "collapsed_sections": []
    },
    "kernelspec": {
      "name": "python3",
      "display_name": "Python 3"
    },
    "language_info": {
      "name": "python"
    }
  },
  "cells": [
    {
      "cell_type": "markdown",
      "metadata": {
        "id": "_vcHwiQ_RghF"
      },
      "source": [
        "**Mini Project**"
      ]
    },
    {
      "cell_type": "code",
      "metadata": {
        "id": "alx1kyc9e-o9"
      },
      "source": [
        "#Reading the  csv file\n",
        "df=\"/makeSenseOfCensus.csv\""
      ],
      "execution_count": null,
      "outputs": []
    },
    {
      "cell_type": "code",
      "metadata": {
        "colab": {
          "base_uri": "https://localhost:8080/"
        },
        "id": "Ib7dEbsnfxKi",
        "outputId": "86a9927e-5db5-46d8-af7d-6825d8ee8bc3"
      },
      "source": [
        "data = np.genfromtxt(df, delimiter=\",\", skip_header=1)\n",
        "data.shape"
      ],
      "execution_count": null,
      "outputs": [
        {
          "output_type": "execute_result",
          "data": {
            "text/plain": [
              "(1000, 8)"
            ]
          },
          "metadata": {},
          "execution_count": 25
        }
      ]
    },
    {
      "cell_type": "code",
      "metadata": {
        "colab": {
          "base_uri": "https://localhost:8080/"
        },
        "id": "hkb9KGqkghD0",
        "outputId": "d42af859-455c-467a-8e78-d73aa8354f5c"
      },
      "source": [
        "#type of our data\n",
        "type(data)"
      ],
      "execution_count": null,
      "outputs": [
        {
          "output_type": "execute_result",
          "data": {
            "text/plain": [
              "numpy.ndarray"
            ]
          },
          "metadata": {},
          "execution_count": 10
        }
      ]
    },
    {
      "cell_type": "code",
      "metadata": {
        "colab": {
          "base_uri": "https://localhost:8080/"
        },
        "id": "otBNCuxxfzrE",
        "outputId": "cffdd77d-1c5f-4a30-afaf-384f0e13cc77"
      },
      "source": [
        "#defining a new record to insert into our data\n",
        "new_record=np.array([[50,9,4,1,0,0,40,0]])\n",
        "new_record"
      ],
      "execution_count": null,
      "outputs": [
        {
          "output_type": "execute_result",
          "data": {
            "text/plain": [
              "array([[50,  9,  4,  1,  0,  0, 40,  0]])"
            ]
          },
          "metadata": {},
          "execution_count": 11
        }
      ]
    },
    {
      "cell_type": "code",
      "metadata": {
        "id": "rKVtidXst7oV"
      },
      "source": [
        "#Concatenating the record to dataset\n",
        "data_u=np.concatenate((data,new_record))"
      ],
      "execution_count": null,
      "outputs": []
    },
    {
      "cell_type": "code",
      "metadata": {
        "id": "P8dYu7kAhb0K"
      },
      "source": [
        "#Storing the ages from age column in age variable\n",
        "age=data_u[ : ,0]"
      ],
      "execution_count": null,
      "outputs": []
    },
    {
      "cell_type": "code",
      "metadata": {
        "colab": {
          "base_uri": "https://localhost:8080/"
        },
        "id": "iGSyyyoahj6O",
        "outputId": "db83a34b-9630-4328-b089-1d9dabc043bc"
      },
      "source": [
        "age"
      ],
      "execution_count": null,
      "outputs": [
        {
          "output_type": "execute_result",
          "data": {
            "text/plain": [
              "array([39., 50., 38., ..., 40., 39., 50.])"
            ]
          },
          "metadata": {},
          "execution_count": 61
        }
      ]
    },
    {
      "cell_type": "code",
      "metadata": {
        "colab": {
          "base_uri": "https://localhost:8080/"
        },
        "id": "YgI76-mPlDSe",
        "outputId": "a9ef53ff-1d1b-47bb-c6a9-f705db7dbffb"
      },
      "source": [
        "#The maximum age in the data\n",
        "max_age=age.max()\n",
        "int(max_age)"
      ],
      "execution_count": null,
      "outputs": [
        {
          "output_type": "execute_result",
          "data": {
            "text/plain": [
              "90"
            ]
          },
          "metadata": {},
          "execution_count": 62
        }
      ]
    },
    {
      "cell_type": "code",
      "metadata": {
        "colab": {
          "base_uri": "https://localhost:8080/"
        },
        "id": "02GPuD4KlYy0",
        "outputId": "36be2167-d84f-4bf5-da6b-fe744e87ddd8"
      },
      "source": [
        "#The minimum age in the data\n",
        "min_age=age.min()\n",
        "int(min_age)"
      ],
      "execution_count": null,
      "outputs": [
        {
          "output_type": "execute_result",
          "data": {
            "text/plain": [
              "17"
            ]
          },
          "metadata": {},
          "execution_count": 63
        }
      ]
    },
    {
      "cell_type": "code",
      "metadata": {
        "colab": {
          "base_uri": "https://localhost:8080/"
        },
        "id": "zq4XzoTBldqT",
        "outputId": "5a42c0cd-5755-4a79-a6fb-c7fa22f9e38e"
      },
      "source": [
        "age_mean=age.mean()\n",
        "int(age_mean)"
      ],
      "execution_count": null,
      "outputs": [
        {
          "output_type": "execute_result",
          "data": {
            "text/plain": [
              "38"
            ]
          },
          "metadata": {},
          "execution_count": 64
        }
      ]
    },
    {
      "cell_type": "code",
      "metadata": {
        "colab": {
          "base_uri": "https://localhost:8080/"
        },
        "id": "oJbs1cBjlkk0",
        "outputId": "70d3f2ba-908a-4b2d-acf6-7a059f08f966"
      },
      "source": [
        "age_sd=age.std()\n",
        "age_sd"
      ],
      "execution_count": null,
      "outputs": [
        {
          "output_type": "execute_result",
          "data": {
            "text/plain": [
              "13.341478176165857"
            ]
          },
          "metadata": {},
          "execution_count": 65
        }
      ]
    },
    {
      "cell_type": "markdown",
      "metadata": {
        "id": "QwAhGGgoAu12"
      },
      "source": [
        "Storing the races of people as follows: \n",
        "\n",
        "---\n",
        "\n",
        "\n",
        "race:\n",
        "Person's race \n",
        "\n",
        "---\n",
        "\n",
        "\n",
        "\n",
        "---\n",
        "\n",
        "\n",
        "0 - Amer-Indian-Eskimo\n",
        "1 - Asian-Pac-Islander\n",
        "2 - Black\n",
        "3 - Other\n",
        "4 - White"
      ]
    },
    {
      "cell_type": "code",
      "metadata": {
        "id": "YuWiczcFlq8V"
      },
      "source": [
        "#race_0 represents Amer_Indian_Eskimo\n",
        "race_0=data_u[data_u[ : ,2]==0]"
      ],
      "execution_count": null,
      "outputs": []
    },
    {
      "cell_type": "code",
      "metadata": {
        "id": "-duTbm0fmhH0"
      },
      "source": [
        "#race_1 represents Asian_Pac_Islander\n",
        "race_1=data_u[data_u[ : ,2]==1]\n"
      ],
      "execution_count": null,
      "outputs": []
    },
    {
      "cell_type": "code",
      "metadata": {
        "id": "qLWGTiRkm09e"
      },
      "source": [
        "#race_2 represents Black\n",
        "race_2=data_u[data_u[ : ,2]==2]\n"
      ],
      "execution_count": null,
      "outputs": []
    },
    {
      "cell_type": "code",
      "metadata": {
        "id": "0RrQP5Xtm8zR"
      },
      "source": [
        "#race_3 represents Others\n",
        "race_3=data_u[data_u[ : ,2]==3]\n"
      ],
      "execution_count": null,
      "outputs": []
    },
    {
      "cell_type": "code",
      "metadata": {
        "id": "20QBRg_WnBA7"
      },
      "source": [
        "#race_4 represents White\n",
        "race_4=data_u[data_u[ : ,2]==4]\n"
      ],
      "execution_count": null,
      "outputs": []
    },
    {
      "cell_type": "code",
      "metadata": {
        "colab": {
          "base_uri": "https://localhost:8080/"
        },
        "id": "NhJYpbpYnKeZ",
        "outputId": "c201993c-da73-4db5-d475-3e694a815c7b"
      },
      "source": [
        "#len_0 represents number of people belonging to Amer_Indian_Islander Race\n",
        "len_0=len(race_0)\n",
        "len_0"
      ],
      "execution_count": null,
      "outputs": [
        {
          "output_type": "execute_result",
          "data": {
            "text/plain": [
              "10"
            ]
          },
          "metadata": {},
          "execution_count": 71
        }
      ]
    },
    {
      "cell_type": "code",
      "metadata": {
        "colab": {
          "base_uri": "https://localhost:8080/"
        },
        "id": "N0cQplMTnU7r",
        "outputId": "75947a1b-f20f-4e8e-9a85-6ff3d9d2e020"
      },
      "source": [
        "#len_1 represents number of people belonging to Asian_Pac_Islander Race\n",
        "len_1=len(race_1)\n",
        "len_1"
      ],
      "execution_count": null,
      "outputs": [
        {
          "output_type": "execute_result",
          "data": {
            "text/plain": [
              "27"
            ]
          },
          "metadata": {},
          "execution_count": 72
        }
      ]
    },
    {
      "cell_type": "code",
      "metadata": {
        "colab": {
          "base_uri": "https://localhost:8080/"
        },
        "id": "bbyHGHtTna74",
        "outputId": "acdfffdf-b147-4ef5-91d5-0038e45f5899"
      },
      "source": [
        "#len_2 represents number of people belonging to Black Race\n",
        "len_2=len(race_2)\n",
        "len_2"
      ],
      "execution_count": null,
      "outputs": [
        {
          "output_type": "execute_result",
          "data": {
            "text/plain": [
              "110"
            ]
          },
          "metadata": {},
          "execution_count": 73
        }
      ]
    },
    {
      "cell_type": "code",
      "metadata": {
        "colab": {
          "base_uri": "https://localhost:8080/"
        },
        "id": "0KPXPI1HncWN",
        "outputId": "d5535e0b-8662-4efc-ce7e-71717e0e738a"
      },
      "source": [
        "#len_3 represents number of people belonging to Others Race\n",
        "len_3=len(race_3)\n",
        "len_3"
      ],
      "execution_count": null,
      "outputs": [
        {
          "output_type": "execute_result",
          "data": {
            "text/plain": [
              "6"
            ]
          },
          "metadata": {},
          "execution_count": 74
        }
      ]
    },
    {
      "cell_type": "code",
      "metadata": {
        "colab": {
          "base_uri": "https://localhost:8080/"
        },
        "id": "LnF-iwKSne3i",
        "outputId": "3587ebf0-1f36-49ee-bd28-4d3a8e347265"
      },
      "source": [
        "#len_4 represents number of people belonging to White Race\n",
        "len_4=len(race_4)\n",
        "len_4"
      ],
      "execution_count": null,
      "outputs": [
        {
          "output_type": "execute_result",
          "data": {
            "text/plain": [
              "848"
            ]
          },
          "metadata": {},
          "execution_count": 75
        }
      ]
    },
    {
      "cell_type": "markdown",
      "metadata": {
        "id": "qts5qplKCWCV"
      },
      "source": [
        "As we can see the value of len_3 = 6 is the minimum, So, People of Other's race are the minorities"
      ]
    },
    {
      "cell_type": "code",
      "metadata": {
        "id": "ntqLO2tung8W"
      },
      "source": [
        "#Storing the number of people that belong to minority in minority_race variable\n",
        "minority_race=len_3"
      ],
      "execution_count": null,
      "outputs": []
    },
    {
      "cell_type": "code",
      "metadata": {
        "id": "SJX1RpGSnzf4"
      },
      "source": [
        "#People who are above the age 60 are stored in senior_citizens variable\n",
        "senior_citizens=data_u[age>60]"
      ],
      "execution_count": null,
      "outputs": []
    },
    {
      "cell_type": "code",
      "metadata": {
        "id": "wmJJuTrCoHaT"
      },
      "source": [
        "#Getting to know the sum of the working hours of senior citizens\n",
        "working_hours_sum=sum(senior_citizens[ : ,6])"
      ],
      "execution_count": null,
      "outputs": []
    },
    {
      "cell_type": "code",
      "metadata": {
        "colab": {
          "base_uri": "https://localhost:8080/"
        },
        "id": "hx2FFIdso5Mu",
        "outputId": "264f07b7-252e-4ca8-a7cb-ad7bf9cebc4a"
      },
      "source": [
        "working_hours_sum"
      ],
      "execution_count": null,
      "outputs": [
        {
          "output_type": "execute_result",
          "data": {
            "text/plain": [
              "1917.0"
            ]
          },
          "metadata": {},
          "execution_count": 81
        }
      ]
    },
    {
      "cell_type": "code",
      "metadata": {
        "colab": {
          "base_uri": "https://localhost:8080/"
        },
        "id": "fqZ6Pnh7o-O9",
        "outputId": "de7358b2-8829-40a4-d058-2e079059ff6a"
      },
      "source": [
        "#Number of senior citizens\n",
        "senior_citizens_len=len(senior_citizens)\n",
        "senior_citizens_len"
      ],
      "execution_count": null,
      "outputs": [
        {
          "output_type": "execute_result",
          "data": {
            "text/plain": [
              "61"
            ]
          },
          "metadata": {},
          "execution_count": 82
        }
      ]
    },
    {
      "cell_type": "markdown",
      "metadata": {
        "id": "gGZGkOHqEf0x"
      },
      "source": [
        "There are 61 senior citizens"
      ]
    },
    {
      "cell_type": "code",
      "metadata": {
        "id": "KtPQUYt0pV9H"
      },
      "source": [
        "#The average working hours of senior citizens per week\n",
        "avg_working_hours=working_hours_sum/senior_citizens_len"
      ],
      "execution_count": null,
      "outputs": []
    },
    {
      "cell_type": "code",
      "metadata": {
        "colab": {
          "base_uri": "https://localhost:8080/"
        },
        "id": "lFc7SHu2phfX",
        "outputId": "34d59511-032a-468c-a936-38d0668879ad"
      },
      "source": [
        "int(avg_working_hours)"
      ],
      "execution_count": null,
      "outputs": [
        {
          "output_type": "execute_result",
          "data": {
            "text/plain": [
              "31"
            ]
          },
          "metadata": {},
          "execution_count": 85
        }
      ]
    },
    {
      "cell_type": "markdown",
      "metadata": {
        "id": "bpwJG1_QFig_"
      },
      "source": [
        "Average number of working hours per week for senior citizens turn out to be 31"
      ]
    },
    {
      "cell_type": "markdown",
      "metadata": {
        "id": "KhTI8u6xFDZ0"
      },
      "source": [
        "As we know that number of hours allowed to work per week are 25 for senior citizens , So we can say that they are not following the guidelines"
      ]
    },
    {
      "cell_type": "code",
      "metadata": {
        "id": "oI2l61Smpi0h"
      },
      "source": [
        "#Here people who have more than 10 years of education are stored in high variable\n",
        "high=data_u[data_u[ : ,1]>10]"
      ],
      "execution_count": null,
      "outputs": []
    },
    {
      "cell_type": "code",
      "metadata": {
        "colab": {
          "base_uri": "https://localhost:8080/"
        },
        "id": "gdVsbllxp_ZT",
        "outputId": "ad118272-1102-4a63-e627-72194a78d4f0"
      },
      "source": [
        "\n",
        "len(high)"
      ],
      "execution_count": null,
      "outputs": [
        {
          "output_type": "execute_result",
          "data": {
            "text/plain": [
              "327"
            ]
          },
          "metadata": {},
          "execution_count": 94
        }
      ]
    },
    {
      "cell_type": "code",
      "metadata": {
        "id": "okFu6i3pqDwt"
      },
      "source": [
        "#Here people who have less than 10 years of education are stored in low variable\n",
        "low=data_u[data_u[ : ,1]<10]"
      ],
      "execution_count": null,
      "outputs": []
    },
    {
      "cell_type": "code",
      "metadata": {
        "colab": {
          "base_uri": "https://localhost:8080/"
        },
        "id": "Np-cRyeYqK0T",
        "outputId": "55d8f13d-4217-47ec-b55c-57c658a42b0e"
      },
      "source": [
        "len(low)"
      ],
      "execution_count": null,
      "outputs": [
        {
          "output_type": "execute_result",
          "data": {
            "text/plain": [
              "449"
            ]
          },
          "metadata": {},
          "execution_count": 96
        }
      ]
    },
    {
      "cell_type": "code",
      "metadata": {
        "id": "1ebMmcc2qLSn",
        "colab": {
          "base_uri": "https://localhost:8080/"
        },
        "outputId": "ec8c724d-9e4c-4999-8fe5-90236265b8d9"
      },
      "source": [
        "#Average income of people with more than 10 years of education\n",
        "avg_pay_high=high[ : ,7]\n",
        "avg_pay_high.mean()"
      ],
      "execution_count": null,
      "outputs": [
        {
          "output_type": "execute_result",
          "data": {
            "text/plain": [
              "0.42813455657492355"
            ]
          },
          "metadata": {},
          "execution_count": 97
        }
      ]
    },
    {
      "cell_type": "code",
      "metadata": {
        "id": "tJSy32tkvfXH",
        "colab": {
          "base_uri": "https://localhost:8080/"
        },
        "outputId": "0b6b8fbe-45fb-44c1-a540-8ed5f93946b9"
      },
      "source": [
        "#Average income of people with less than 10 years of education\n",
        "avg_pay_low=low[ : ,7]\n",
        "avg_pay_low.mean()"
      ],
      "execution_count": null,
      "outputs": [
        {
          "output_type": "execute_result",
          "data": {
            "text/plain": [
              "0.12694877505567928"
            ]
          },
          "metadata": {},
          "execution_count": 98
        }
      ]
    },
    {
      "cell_type": "markdown",
      "metadata": {
        "id": "j5nSimFSHj7W"
      },
      "source": [
        "Income: Annual Income of the person\n",
        "\n",
        "---\n",
        "\n",
        "\n",
        "0 : Less than or equal to 50K\n",
        "\n",
        "---\n",
        "\n",
        "\n",
        "\n",
        "---\n",
        "\n",
        "\n",
        "1 : More than 50K"
      ]
    }
  ]
}